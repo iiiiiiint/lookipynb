{
 "cells": [
  {
   "cell_type": "markdown",
   "metadata": {},
   "source": [
    "# <center>Assignment 3</center>"
   ]
  },
  {
   "cell_type": "markdown",
   "metadata": {},
   "source": [
    "## <center><font color = 'red'>Only submit .py files to moodle!</font></center>\n",
    "## <center><font color = 'red'>Online resources will be added into plagiarism check, which means if any students copy them directly, 0 mark he/she gets.</font></center>"
   ]
  },
  {
   "cell_type": "markdown",
   "metadata": {},
   "source": [
    "## Q1 (difficulity: *)\n",
    "### <font color = 'tomato'>time: 2 seconds</font>\n",
    "### Given two polynomials $P_1(x) = a_n x^n + a_{n-1} x^{n-1} + \\cdots + a_0$ and $P_2(x) = b_m x^m + b_{m-1} x^{m-1} + \\cdots + b_0$, print the product of $P_1(x)$ and $P_2(x)$.\n",
    "### The input consists of two lines which represents the coefficients of the two polynomials.\n",
    "### The output consists of one line which represents the coefficients of the product.\n",
    "### <font color = 'red'>filename</font>: assignment_3_Q1.py\n",
    "### <font color = 'red'>input filename</font>: assignment_3_Q1_input.txt\n",
    "### <font color = 'red'>output filename</font>: assignment_3_Q1_output.txt"
   ]
  },
  {
   "cell_type": "code",
   "execution_count": 4,
   "metadata": {},
   "outputs": [],
   "source": [
    "# representation of a polynomial\n",
    "# 4 x^3 + 12 x + 3 -> 4 0 12 3"
   ]
  },
  {
   "cell_type": "markdown",
   "metadata": {},
   "source": [
    "## Q2 (difficulity: **)\n",
    "### <font color = 'tomato'>time: 3 seconds</font>\n",
    "### Given two monic polynomials $P_1(x) = x^n + a_{n-1} x^{n-1} + \\cdots + a_0$ and $P_2(x) = x^m + b_{m-1} x^{m-1} + \\cdots + b_0$, assuming $n > m$, print the quotident and the remainder of $P_1(x)$ divided by $P_2(x)$. Here the monic polynomial represents the polynomials that the coefficients of the highest order term equals $1$.\n",
    "### The input consists of two lines which represents the coefficients of the two polynomials.\n",
    "### The output consists of two line which represents the coefficients of the quotient and the remainder.\n",
    "### <font color = 'red'>filename</font>: assignment_3_Q2.py\n",
    "### <font color = 'red'>input filename</font>: assignment_3_Q2_input.txt\n",
    "### <font color = 'red'>output filename</font>: assignment_3_Q2_output.txt"
   ]
  },
  {
   "cell_type": "code",
   "execution_count": null,
   "metadata": {},
   "outputs": [],
   "source": []
  },
  {
   "cell_type": "markdown",
   "metadata": {},
   "source": [
    "## Q1. (difficulity: **) \n",
    "### <font color = 'tomato'>time: 3 seconds</font>\n",
    "## Imagine that you are an agent (代購) to buy different products for customers overseas. Due to the limitation of luggage weights, you can only bring a limited amount of products.\n",
    "## Now, given the weight limit for each luggage, and the weight, quantity available and profit for each product, how much is your maximized profit, and what is your strategy?\n",
    "### input (all positive integers):\n",
    "#### 25 <font color = 'red'>(limit to 25 kilogram)</font> (the limit is at most 50000 kilograms)\n",
    "#### 2 8 5 6 15 3 7 <font color = 'red'>(weights in kilogram)</font>\n",
    "#### 100 100 10 100 50 10 100 <font color = 'red'>(quantities available)</font>\n",
    "#### 30 100 10 120 280 50 40 <font color = 'red'>(profit in dollar)</font>\n",
    "### output:\n",
    "#### 480 <font color = 'red'>(total profit in dollar)</font>\n",
    "#### 6 100 120 4 <font color = 'red'>(the product with 6kg, total available 100 pcs, with profit 120 each, the agent bought 4 of them)</font>"
   ]
  },
  {
   "cell_type": "markdown",
   "metadata": {},
   "source": [
    "### <font color = 'red'>filename</font>: assignment_3_Q3.py\n",
    "### <font color = 'red'>input filename</font>: assignment_3_Q3_input.txt\n",
    "### <font color = 'red'>output filename</font>: assignment_3_Q3_output.txt"
   ]
  },
  {
   "cell_type": "code",
   "execution_count": null,
   "metadata": {},
   "outputs": [],
   "source": []
  }
 ],
 "metadata": {
  "kernelspec": {
   "display_name": "Python 3",
   "language": "python",
   "name": "python3"
  },
  "language_info": {
   "codemirror_mode": {
    "name": "ipython",
    "version": 3
   },
   "file_extension": ".py",
   "mimetype": "text/x-python",
   "name": "python",
   "nbconvert_exporter": "python",
   "pygments_lexer": "ipython3",
   "version": "3.8.11"
  }
 },
 "nbformat": 4,
 "nbformat_minor": 4
}
