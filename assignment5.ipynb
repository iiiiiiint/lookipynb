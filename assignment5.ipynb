{
 "cells": [
  {
   "cell_type": "markdown",
   "metadata": {},
   "source": [
    "# <center>Assignment 5</center>"
   ]
  },
  {
   "cell_type": "markdown",
   "metadata": {},
   "source": [
    "## <center><font color = 'red'>Only submit .py files to moodle!</font></center>\n",
    "## <center><font color = 'red'>Online resources will be added into plagiarism check, which means if any students copy them directly, 0 mark he/she gets.</font></center>"
   ]
  },
  {
   "cell_type": "markdown",
   "metadata": {},
   "source": [
    "## Q1. (difficulity: *) \n",
    "### <font color = 'tomato'>time: 5 seconds</font>\n",
    "## Given a maze with a starting point S, and an exit E. You are now going to output if this maze is solvable.\n",
    "## Obstacle is represented by \"$|$\" or \"$-$'\n",
    "\n",
    "### output:\n",
    "#### 1 <font color = 'red'>(if the maze solvable)</font>\n",
    "\n",
    "### Note:\n",
    "#### The size of maze is at most $ 10^{8} \\times 10^{8} $"
   ]
  },
  {
   "cell_type": "markdown",
   "metadata": {},
   "source": [
    "### Please check sample input and sample output for samples\n",
    "### <font color = 'red'>filename</font>: assignment_5_Q1.py\n",
    "### <font color = 'red'>input filename</font>: assignment_5_Q1_input.txt\n",
    "### <font color = 'red'>output filename</font>: assignment_5_Q1_output.txt"
   ]
  },
  {
   "cell_type": "markdown",
   "metadata": {},
   "source": [
    "## Q2. (difficulity: **) \n",
    "### <font color = 'tomato'>time: 5 seconds</font>\n",
    "## Now, given a number $k$, and a sequence of numbers, is there any $k$ numbers that the sum equals 0?\n",
    "### input:\n",
    "#### 3 <font color = 'red'>(take 3 distinct numbers from below and check if sum to 0 exists)</font> (at most 50 numbers)\n",
    "#### 2 8 -5 6 -10 -3 7 (at most 100000 numbers)\n",
    "### output:\n",
    "#### 1 <font color = 'red'>(1 represents True, and 0 represents False)</font>"
   ]
  },
  {
   "cell_type": "markdown",
   "metadata": {},
   "source": [
    "### <font color = 'red'>filename</font>: assignment_5_Q2.py\n",
    "### <font color = 'red'>input filename</font>: assignment_5_Q2_input.txt\n",
    "### <font color = 'red'>output filename</font>: assignment_5_Q2_output.txt"
   ]
  },
  {
   "cell_type": "code",
   "execution_count": null,
   "metadata": {},
   "outputs": [],
   "source": []
  }
 ],
 "metadata": {
  "kernelspec": {
   "display_name": "Python 3 (ipykernel)",
   "language": "python",
   "name": "python3"
  },
  "language_info": {
   "codemirror_mode": {
    "name": "ipython",
    "version": 3
   },
   "file_extension": ".py",
   "mimetype": "text/x-python",
   "name": "python",
   "nbconvert_exporter": "python",
   "pygments_lexer": "ipython3",
   "version": "3.9.12"
  }
 },
 "nbformat": 4,
 "nbformat_minor": 4
}
